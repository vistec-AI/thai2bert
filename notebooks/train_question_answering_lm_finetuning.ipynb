{
  "nbformat": 4,
  "nbformat_minor": 0,
  "metadata": {
    "accelerator": "GPU",
    "colab": {
      "name": "wip_train_question_answering_lm_finetuning",
      "private_outputs": true,
      "provenance": [],
      "collapsed_sections": [],
      "toc_visible": true
    },
    "kernelspec": {
      "display_name": "Python 3",
      "language": "python",
      "name": "python3"
    },
    "language_info": {
      "codemirror_mode": {
        "name": "ipython",
        "version": 3
      },
      "file_extension": ".py",
      "mimetype": "text/x-python",
      "name": "python",
      "nbconvert_exporter": "python",
      "pygments_lexer": "ipython3",
      "version": "3.7.10"
    }
  },
  "cells": [
    {
      "cell_type": "markdown",
      "metadata": {
        "id": "X4cRE8IbIrIV"
      },
      "source": [
        "# Question Answering with [WangchanBERTa](https://colab.research.google.com/drive/1Kbk6sBspZLwcnOE61adAQo30xxqOQ9ko#scrollTo=CbEzo1R2vp_H)"
      ]
    },
    {
      "cell_type": "markdown",
      "metadata": {
        "id": "WG7JU638f6P7"
      },
      "source": [
        "[![Open In Colab](https://colab.research.google.com/assets/colab-badge.svg)](https://colab.research.google.com/github/vistec-AI/thai2transformers/blob/dev/notebooks/train_question_answering_lm_finetuning.ipynb)\n",
        "\n",
        "This notebook is adapted from [HuggingFace example on QA](https://huggingface.co/transformers/examples.html) for WangchanBERTa. We have modified text processing functions and metrics to suit Thai language."
      ]
    },
    {
      "cell_type": "markdown",
      "metadata": {
        "id": "AaYNxLGFvUTA"
      },
      "source": [
        "## Installs and Imports"
      ]
    },
    {
      "cell_type": "code",
      "metadata": {
        "id": "MOsHUjgdIrIW"
      },
      "source": [
        "!pip install -Uqq datasets pythainlp==2.2.4 transformers==4.4.0 tensorflow==2.4.0 tensorflow_text emoji seqeval sentencepiece fuzzywuzzy\n",
        "!npx degit --force https://github.com/vistec-AI/thai2transformers#dev"
      ],
      "execution_count": null,
      "outputs": []
    },
    {
      "cell_type": "code",
      "metadata": {
        "id": "FIFmbPJQUojd"
      },
      "source": [
        "%load_ext autoreload\n",
        "%autoreload 2\n",
        "\n",
        "import pythainlp, transformers\n",
        "pythainlp.__version__, transformers.__version__ #fix pythainlp to stabilize word tokenization for metrics"
      ],
      "execution_count": null,
      "outputs": []
    },
    {
      "cell_type": "code",
      "metadata": {
        "id": "0WsNAI2LkHq1"
      },
      "source": [
        "import collections\n",
        "import logging\n",
        "import pprint\n",
        "import re\n",
        "from tqdm.auto import tqdm\n",
        "\n",
        "import numpy as np\n",
        "import torch\n",
        "\n",
        "#datasets\n",
        "from datasets import (\n",
        "    load_dataset, \n",
        "    load_metric, \n",
        "    concatenate_datasets,\n",
        "    load_from_disk,\n",
        ")\n",
        "\n",
        "#transformers\n",
        "from transformers import (\n",
        "    AutoConfig,\n",
        "    AutoTokenizer,\n",
        "    AutoModelForQuestionAnswering,\n",
        "    TrainingArguments,\n",
        "    Trainer,\n",
        "    default_data_collator,\n",
        ")\n",
        "\n",
        "#thai2transformers\n",
        "import thai2transformers\n",
        "from thai2transformers.metrics import (\n",
        "    squad_newmm_metric,\n",
        "    question_answering_metrics,\n",
        ")\n",
        "from thai2transformers.preprocess import (\n",
        "    prepare_qa_train_features\n",
        ")\n",
        "from thai2transformers.tokenizers import (\n",
        "    ThaiRobertaTokenizer,\n",
        "    ThaiWordsNewmmTokenizer,\n",
        "    ThaiWordsSyllableTokenizer,\n",
        "    FakeSefrCutTokenizer,\n",
        "    SEFR_SPLIT_TOKEN\n",
        ")"
      ],
      "execution_count": null,
      "outputs": []
    },
    {
      "cell_type": "markdown",
      "metadata": {
        "id": "rEJBSTyZIrIb"
      },
      "source": [
        "## Choose Pretrained Models"
      ]
    },
    {
      "cell_type": "code",
      "metadata": {
        "id": "6PRUebZzkPBU"
      },
      "source": [
        "model_names = [\n",
        "    'wangchanberta-base-att-spm-uncased',\n",
        "    'xlm-roberta-base',\n",
        "    'bert-base-multilingual-cased',\n",
        "    'wangchanberta-base-wiki-newmm',\n",
        "    'wangchanberta-base-wiki-ssg',\n",
        "    'wangchanberta-base-wiki-sefr',\n",
        "    'wangchanberta-base-wiki-spm',\n",
        "]\n",
        "\n",
        "tokenizers = {\n",
        "    'wangchanberta-base-att-spm-uncased': AutoTokenizer,\n",
        "    'xlm-roberta-base': AutoTokenizer,\n",
        "    'bert-base-multilingual-cased': AutoTokenizer,\n",
        "    'wangchanberta-base-wiki-newmm': ThaiWordsNewmmTokenizer,\n",
        "    'wangchanberta-base-wiki-ssg': ThaiWordsSyllableTokenizer,\n",
        "    'wangchanberta-base-wiki-sefr': FakeSefrCutTokenizer,\n",
        "    'wangchanberta-base-wiki-spm': ThaiRobertaTokenizer,\n",
        "}\n",
        "public_models = ['xlm-roberta-base', 'bert-base-multilingual-cased'] \n",
        "#@title Choose Pretrained Model\n",
        "model_name = \"wangchanberta-base-att-spm-uncased\" #@param [\"wangchanberta-base-att-spm-uncased\", \"xlm-roberta-base\", \"bert-base-multilingual-cased\", \"wangchanberta-base-wiki-newmm\", \"wangchanberta-base-wiki-syllable\", \"wangchanberta-base-wiki-sefr\", \"wangchanberta-base-wiki-spm\"]\n",
        "\n",
        "#create tokenizer\n",
        "tokenizer = tokenizers[model_name].from_pretrained(\n",
        "                f'airesearch/{model_name}' if model_name not in public_models else f'{model_name}',\n",
        "                revision='main',\n",
        "                model_max_length=416,)"
      ],
      "execution_count": null,
      "outputs": []
    },
    {
      "cell_type": "markdown",
      "metadata": {
        "id": "whPRbBNbIrIl"
      },
      "source": [
        "## Load datasets"
      ]
    },
    {
      "cell_type": "code",
      "metadata": {
        "id": "DY3S1WzaUojf"
      },
      "source": [
        "#parameterizing columns\n",
        "CONTEXT_COL = 'context'\n",
        "QUESTION_COL = 'question'\n",
        "ANSWERS_COL = 'answers'\n",
        "TEXT_COL = 'text'\n",
        "START_COL = 'answer_start'\n",
        "END_COL = 'answer_end'\n",
        "QUESTION_ID_COL = 'question_id'"
      ],
      "execution_count": null,
      "outputs": []
    },
    {
      "cell_type": "markdown",
      "metadata": {
        "id": "DfFKLJF9Uojf"
      },
      "source": [
        "### `iapp_wiki_qa_squad` and `thaiqa_squad`"
      ]
    },
    {
      "cell_type": "markdown",
      "metadata": {
        "id": "JyDyGpLLUojg"
      },
      "source": [
        "Question answering datasets in Thai are relatively small (`squad` has 87,599 examples in training set whereas the numbers are 5,761 and 4,000 for `iapp_wiki_qa_squad` and `thaiqa_squad` respectively). Therefore, we will merge `iapp_wiki_qa_squad` with `thaiqa_squad`. Since we are using train and valiation sets of `iapp_wiki_qa_squad`, we will make sure that there are no overlapping contexts between those datasets and the training set of `thaiqa_squad` that we are merging with the training set of `iapp_wiki_qa_squad`."
      ]
    },
    {
      "cell_type": "code",
      "metadata": {
        "id": "HyCTSP-Ya8f6"
      },
      "source": [
        "# #make thaiqa looks like iapp\n",
        "# def convert_to_iapp(example):\n",
        "#     extra_tag = re.match('<doc.*>', example['context'][:-7]).group(0)\n",
        "#     example['answers'] = {\n",
        "#         'text': example['answers']['answer'],\n",
        "#         'answer_start': [np.int32(example['answers']['answer_begin_position'][0] - len(extra_tag))],\n",
        "#         'answer_end': [np.int32(example['answers']['answer_end_position'][0] - len(extra_tag))],\n",
        "#     }\n",
        "#     example['context'] = example['context'][len(extra_tag):-7]\n",
        "#     example['article_id'] = str(example['article_id'])\n",
        "#     example['question_id'] = str(example['question_id'])\n",
        "#     example['title'] = ''\n",
        "#     return example\n",
        "\n",
        "# thaiqa = load_dataset('thaiqa_squad')\n",
        "# thaiqa2 = thaiqa.map(convert_to_iapp)\n",
        "# thaiqa2"
      ],
      "execution_count": null,
      "outputs": []
    },
    {
      "cell_type": "code",
      "metadata": {
        "id": "qDfqefuaeWBo"
      },
      "source": [
        "# iapp = load_dataset('iapp_wiki_qa_squad')\n",
        "# iapp"
      ],
      "execution_count": null,
      "outputs": []
    },
    {
      "cell_type": "code",
      "metadata": {
        "id": "yQxQhCzRUojh"
      },
      "source": [
        "# #see if there is an exact match\n",
        "# iapp_contexts = set(iapp['validation']['context'] + iapp['test']['context'])\n",
        "# thaiqa2_contexts = set(thaiqa2['train']['context'])\n",
        "# len(iapp_contexts), len(thaiqa2_contexts), iapp_contexts.intersection(thaiqa2_contexts)"
      ],
      "execution_count": null,
      "outputs": []
    },
    {
      "cell_type": "code",
      "metadata": {
        "id": "jbX2JBi_Uojh"
      },
      "source": [
        "# #see if there are contextually similar sentences using USE\n",
        "# #code adapted from https://github.com/cstorm125/thxxwiki/blob/main/align_sentences.py\n",
        "\n",
        "# # !pip install tensorflow==2.3.0 tensorflow_text tensorflow_hub\n",
        "# import tensorflow_hub as hub\n",
        "# import tensorflow_text\n",
        "# import tensorflow as tf  # tensorflow 2.3.0\n",
        "# import pandas as pd\n",
        "\n",
        "# def match_sentences(lang1_sentences, lang2_sentences, model):\n",
        "#     embedding_1 = model(lang1_sentences)\n",
        "#     embedding_2 = model(lang2_sentences)\n",
        "#     distance_matrix_12 = tf.matmul(embedding_1, embedding_2, transpose_b=True)\n",
        "#     print(embedding_1.shape, embedding_2.shape, distance_matrix_12.shape)\n",
        "#     best_distances = tf.argmax(distance_matrix_12, axis=1).numpy()\n",
        "\n",
        "#     matched_sentences_lang2 = []\n",
        "#     scores = []\n",
        "#     for i, lang2_idx in enumerate(best_distances):\n",
        "#         score = distance_matrix_12[i][lang2_idx].numpy()\n",
        "#         scores.append(score)\n",
        "#         matched_sentences_lang2.append(lang2_sentences[lang2_idx])\n",
        "#     return matched_sentences_lang2, scores\n",
        "\n",
        "# _model = hub.load(\n",
        "#         \"https://tfhub.dev/google/universal-sentence-encoder-multilingual/3\"\n",
        "#     )\n",
        "\n",
        "# bs = 1000\n",
        "# use_thres = 0.5 #output everything where dot product is more than 0.5\n",
        "# sent_iapp = list(iapp_contexts)\n",
        "# sent_thaiqa = list(thaiqa2_contexts)\n",
        "\n",
        "# dfs = []\n",
        "# for i in tqdm(range(len(sent_iapp) // bs + 1)):\n",
        "#     for j in tqdm(range(len(sent_thaiqa) // bs + 1)):\n",
        "#         matched_sentences, scores = match_sentences(\n",
        "#             sent_iapp[i * bs : (i + 1) * bs],\n",
        "#             sent_thaiqa[j * bs : (j + 1) * bs],\n",
        "#             _model,\n",
        "#         )\n",
        "#         df = pd.DataFrame(\n",
        "#             {\n",
        "#                 \"iapp_context\": sent_iapp[i * bs : (i + 1) * bs],\n",
        "#                 \"thaiqa_context\": matched_sentences,\n",
        "#                 \"use_score\": scores,\n",
        "#             }\n",
        "#         )\n",
        "#         df = df[(df.use_score > use_thres)]\n",
        "#         dfs.append(df)\n",
        "#         print(\n",
        "#             f\"{df.shape[0]} sentences above {use_thres} threshold\"\n",
        "#         )\n",
        "\n",
        "# df_cc = pd.concat(dfs).sort_values('use_score',ascending=False).reset_index(drop=True)\n",
        "# df_cc.head(50)"
      ],
      "execution_count": null,
      "outputs": []
    },
    {
      "cell_type": "code",
      "metadata": {
        "id": "zBq4m22AUoji"
      },
      "source": [
        "# #we see very few overlaps but to be sure we remove all thaiqa_squad training examples with context similarity 0.8 or above\n",
        "# overlaps = df_cc[df_cc.use_score>=0.8].thaiqa_context.tolist()\n",
        "# len(overlaps)"
      ],
      "execution_count": null,
      "outputs": []
    },
    {
      "cell_type": "code",
      "metadata": {
        "id": "JMQk_ho_Uoji"
      },
      "source": [
        "# #filter out overlappers\n",
        "# def filter_overlaps(example, overlaps):\n",
        "#     return False if example['context'] in overlaps else True\n",
        "\n",
        "# thaiqa3 = thaiqa2.filter(lambda x: filter_overlaps(x,overlaps))\n",
        "# thaiqa3"
      ],
      "execution_count": null,
      "outputs": []
    },
    {
      "cell_type": "code",
      "metadata": {
        "id": "Ie4QBcQnUoji"
      },
      "source": [
        "# #combine to datasets\n",
        "# #train: iapp_wiki_qa + thaiqa3\n",
        "# #validation: iapp_wiki_qa\n",
        "# #test: iapp_wiki_qa\n",
        "\n",
        "# datasets = iapp\n",
        "# datasets['train'] = concatenate_datasets([datasets['train'],thaiqa3['train']])\n",
        "# datasets"
      ],
      "execution_count": null,
      "outputs": []
    },
    {
      "cell_type": "code",
      "metadata": {
        "id": "Nc_ncFsNUoji"
      },
      "source": [
        "# #save to disk\n",
        "# datasets.save_to_disk('iapp_thaiqa')"
      ],
      "execution_count": null,
      "outputs": []
    },
    {
      "cell_type": "code",
      "metadata": {
        "id": "Xrx6Itnmd_95"
      },
      "source": [
        "!wget https://archive.org/download/iapp_thaiqa/iapp_thaiqa.zip"
      ],
      "execution_count": null,
      "outputs": []
    },
    {
      "cell_type": "code",
      "metadata": {
        "id": "Sgwvbssyemw_"
      },
      "source": [
        "!unzip iapp_thaiqa.zip"
      ],
      "execution_count": null,
      "outputs": []
    },
    {
      "cell_type": "markdown",
      "metadata": {
        "id": "qQ44SBk3Uojj"
      },
      "source": [
        "### Putting them together"
      ]
    },
    {
      "cell_type": "code",
      "metadata": {
        "id": "UOuhTm2pUojl"
      },
      "source": [
        "datasets = load_from_disk('iapp_thaiqa')\n",
        "datasets"
      ],
      "execution_count": null,
      "outputs": []
    },
    {
      "cell_type": "code",
      "metadata": {
        "id": "YqgCUGVpbmNF"
      },
      "source": [
        "#lowercase when using uncased model\n",
        "def lowercase_example(example):\n",
        "    example[QUESTION_COL] =  example[QUESTION_COL].lower()\n",
        "    example[CONTEXT_COL] =  example[CONTEXT_COL].lower()\n",
        "    example[ANSWERS_COL][TEXT_COL] =  [example[ANSWERS_COL][TEXT_COL][0].lower()]\n",
        "    return example\n",
        "\n",
        "if model_name == 'wangchanberta-base-att-spm-uncased':\n",
        "    datasets = datasets.map(lowercase_example)"
      ],
      "execution_count": null,
      "outputs": []
    },
    {
      "cell_type": "code",
      "metadata": {
        "id": "X6HrpprwIrIz"
      },
      "source": [
        "datasets[\"train\"][0]"
      ],
      "execution_count": null,
      "outputs": []
    },
    {
      "cell_type": "markdown",
      "metadata": {
        "id": "n9qywopnIrJH"
      },
      "source": [
        "## Preprocessing the training data"
      ]
    },
    {
      "cell_type": "markdown",
      "metadata": {
        "id": "l6pwhkfKUojm"
      },
      "source": [
        "### Rationale"
      ]
    },
    {
      "cell_type": "markdown",
      "metadata": {
        "id": "RP7XVPXVUojm"
      },
      "source": [
        "#### Concatenate question and context"
      ]
    },
    {
      "cell_type": "markdown",
      "metadata": {
        "id": "rowT4iCLIrJK"
      },
      "source": [
        "You can directly call this tokenizer on two sentences (one for the answer, one for the context):"
      ]
    },
    {
      "cell_type": "code",
      "metadata": {
        "id": "a5hBlsrHIrJL"
      },
      "source": [
        "tokenizer(\"เธอเองก็เป็นได้นะ\", \"ฮีโร่น่ะ\")"
      ],
      "execution_count": null,
      "outputs": []
    },
    {
      "cell_type": "code",
      "metadata": {
        "id": "goFjPIItG_S8"
      },
      "source": [
        "tokenizer.decode(tokenizer(\"เธอเองก็เป็นได้นะ\", \"ฮีโร่น่ะ\")['input_ids'])"
      ],
      "execution_count": null,
      "outputs": []
    },
    {
      "cell_type": "markdown",
      "metadata": {
        "id": "SrXPNeqsUojn"
      },
      "source": [
        "#### Document striding for contexts that exceed max sequence length"
      ]
    },
    {
      "cell_type": "markdown",
      "metadata": {
        "id": "qywIbtPMZoxU"
      },
      "source": [
        "Now one specific thing for the preprocessing in question answering is how to deal with very long documents. We usually truncate them in other tasks, when they are longer than the model maximum sentence length, but here, removing part of the the context might result in losing the answer we are looking for. To deal with this, we will allow one (long) example in our dataset to give several input features, each of length shorter than the maximum length of the model (or the one we set as a hyper-parameter). Also, just in case the answer lies at the point we split a long context, we allow some overlap between the features we generate controlled by the hyper-parameter `doc_stride`:"
      ]
    },
    {
      "cell_type": "code",
      "metadata": {
        "id": "wXpuVghfZoxU"
      },
      "source": [
        "max_length = 416 # The maximum length of a feature (question and context)\n",
        "doc_stride = 128 # The authorized overlap between two part of the context when splitting it is needed."
      ],
      "execution_count": null,
      "outputs": []
    },
    {
      "cell_type": "markdown",
      "metadata": {
        "id": "2pqoiwTRZoxV"
      },
      "source": [
        "Let's find one long example in our dataset:"
      ]
    },
    {
      "cell_type": "code",
      "metadata": {
        "id": "oRh_176DZoxV"
      },
      "source": [
        "for i, example in enumerate(datasets[\"train\"]):\n",
        "    if len(tokenizer(example[QUESTION_COL], example[CONTEXT_COL])[\"input_ids\"]) > max_length:\n",
        "        break\n",
        "\n",
        "# i=4\n",
        "example = datasets[\"train\"][i]\n",
        "print(i)\n",
        "pprint.pprint(example['context'])"
      ],
      "execution_count": null,
      "outputs": []
    },
    {
      "cell_type": "markdown",
      "metadata": {
        "id": "FvRF0f-pZoxV"
      },
      "source": [
        "Without any truncation, we get the following length for the input IDs:"
      ]
    },
    {
      "cell_type": "code",
      "metadata": {
        "id": "nu_5kuLlZoxV"
      },
      "source": [
        "len(tokenizer(example[QUESTION_COL], example[CONTEXT_COL])[\"input_ids\"])"
      ],
      "execution_count": null,
      "outputs": []
    },
    {
      "cell_type": "markdown",
      "metadata": {
        "id": "6P_gXme-ZoxW"
      },
      "source": [
        "Now, if we just truncate, we will lose information (and possibly the answer to our question):"
      ]
    },
    {
      "cell_type": "code",
      "metadata": {
        "id": "ECdAvTqrZoxW"
      },
      "source": [
        "len(tokenizer(example[QUESTION_COL], example[CONTEXT_COL], max_length=max_length, truncation=\"only_second\")[\"input_ids\"])"
      ],
      "execution_count": null,
      "outputs": []
    },
    {
      "cell_type": "markdown",
      "metadata": {
        "id": "5PUWFfiZZoxW"
      },
      "source": [
        "Note that we never want to truncate the question, only the context, else the `only_second` truncation picked. Now, our tokenizer can automatically return us a list of features capped by a certain maximum length, with the overlap we talked above, we just have to tell it with `return_overflowing_tokens=True` and by passing the stride:"
      ]
    },
    {
      "cell_type": "code",
      "metadata": {
        "id": "UEaG7UAOZoxY"
      },
      "source": [
        "tokenized_example = tokenizer(\n",
        "    example[QUESTION_COL],\n",
        "    example[CONTEXT_COL],\n",
        "    max_length=max_length,\n",
        "    truncation=\"only_second\",\n",
        "    return_overflowing_tokens=True,\n",
        "    stride=doc_stride\n",
        ")"
      ],
      "execution_count": null,
      "outputs": []
    },
    {
      "cell_type": "markdown",
      "metadata": {
        "id": "578Q8lO_ZoxY"
      },
      "source": [
        "Now we don't have one list of `input_ids`, but several: "
      ]
    },
    {
      "cell_type": "code",
      "metadata": {
        "id": "epDpLIiCZoxY"
      },
      "source": [
        "[len(x) for x in tokenized_example[\"input_ids\"]]"
      ],
      "execution_count": null,
      "outputs": []
    },
    {
      "cell_type": "code",
      "metadata": {
        "id": "PlJWEMktUojr"
      },
      "source": [
        "[tokenizer.decode(x) for x in tokenized_example[\"input_ids\"]]"
      ],
      "execution_count": null,
      "outputs": []
    },
    {
      "cell_type": "markdown",
      "metadata": {
        "id": "AJ2AfDSJZoxY"
      },
      "source": [
        "And if we decode them, we can see the overlap:"
      ]
    },
    {
      "cell_type": "code",
      "metadata": {
        "id": "xqtmDuscZoxY"
      },
      "source": [
        "for x in tokenized_example[\"input_ids\"][:2]:\n",
        "    pprint.pprint(tokenizer.decode(x))"
      ],
      "execution_count": null,
      "outputs": []
    },
    {
      "cell_type": "markdown",
      "metadata": {
        "id": "d86crVa9Uojs"
      },
      "source": [
        "#### Map character positions to token positions with `offset_mapping`"
      ]
    },
    {
      "cell_type": "markdown",
      "metadata": {
        "id": "qVXTxhpVZoxZ"
      },
      "source": [
        "Now this will give us some work to properly treat the answers: we need to find in which of those features the answer actually is, and where exactly in that feature. The models we will use require the start and end positions of these answers in the tokens, so we will also need to to map parts of the original context to some tokens. Thankfully, the tokenizer we're using can help us with that by returning an `offset_mapping`:"
      ]
    },
    {
      "cell_type": "code",
      "metadata": {
        "id": "LJm6Jzm9ZoxZ"
      },
      "source": [
        "tokenized_example = tokenizer(\n",
        "    example[QUESTION_COL],\n",
        "    example[CONTEXT_COL],\n",
        "    max_length=max_length,\n",
        "    truncation=\"only_second\",\n",
        "    return_overflowing_tokens=True,\n",
        "    return_offsets_mapping=True,\n",
        "    stride=doc_stride\n",
        ")"
      ],
      "execution_count": null,
      "outputs": []
    },
    {
      "cell_type": "code",
      "metadata": {
        "id": "JEWrw7JXktph"
      },
      "source": [
        "#offsets\n",
        "tokenized_example[\"offset_mapping\"][0][:8]"
      ],
      "execution_count": null,
      "outputs": []
    },
    {
      "cell_type": "code",
      "metadata": {
        "id": "_HuPUWd4Zoxf"
      },
      "source": [
        "#separate first and second sentences\n",
        "sequence_ids = tokenized_example.sequence_ids()\n",
        "print(sequence_ids)"
      ],
      "execution_count": null,
      "outputs": []
    },
    {
      "cell_type": "code",
      "metadata": {
        "id": "QYpSQ6tmkAFq"
      },
      "source": [
        "answers = example[ANSWERS_COL]\n",
        "start_char = answers[START_COL][0]\n",
        "end_char = start_char + len(answers[TEXT_COL][0]) \n",
        "answers"
      ],
      "execution_count": null,
      "outputs": []
    },
    {
      "cell_type": "markdown",
      "metadata": {
        "id": "BAWPIdyzIT36"
      },
      "source": [
        "We know character `start_char` and `end_char`; we want to find the token `start_position` and `end_position`."
      ]
    },
    {
      "cell_type": "code",
      "metadata": {
        "id": "sUuTCSwoZoxg"
      },
      "source": [
        "answers = example[ANSWERS_COL]\n",
        "start_char = answers[START_COL][0]\n",
        "end_char = start_char + len(answers[TEXT_COL][0]) \n",
        "\n",
        "# start token index of context in input_ids\n",
        "token_start_index = 0\n",
        "while sequence_ids[token_start_index] != 1:\n",
        "    token_start_index += 1\n",
        "\n",
        "# end token index of context in input_ids\n",
        "token_end_index = len(tokenized_example[\"input_ids\"][0]) - 1\n",
        "while sequence_ids[token_end_index] != 1:\n",
        "    token_end_index -= 1\n",
        "\n",
        "# detect if the answer is out of the span; if so, label with (0,0) token\n",
        "# offset mapping is does not reset with chunk\n",
        "offsets = tokenized_example[\"offset_mapping\"][0] #offset mapping of the chunk of context; try 0 and 1\n",
        "\n",
        "if (offsets[token_start_index][0] <= start_char and offsets[token_end_index][1] >= end_char): #check if answer in span\n",
        "    #go from starting token `token_start_index` and increase until start_char is found\n",
        "    while token_start_index < len(offsets) and offsets[token_start_index][0] <= start_char:\n",
        "        token_start_index += 1\n",
        "    start_position = token_start_index - 1\n",
        "\n",
        "    #go from ending token `token_end_index` and decrease until end_char is found\n",
        "    while offsets[token_end_index][1] >= end_char:\n",
        "        token_end_index -= 1\n",
        "    end_position = token_end_index + 1\n",
        "    print(start_position, end_position)\n",
        "else:\n",
        "    print(\"The answer is not in this feature.\")"
      ],
      "execution_count": null,
      "outputs": []
    },
    {
      "cell_type": "code",
      "metadata": {
        "id": "Ggx8tiiqcJxo"
      },
      "source": [
        "answer_tokens = tokenized_example[\"input_ids\"][0][start_position:end_position]\n",
        "tokenizer.decode(answer_tokens), answer_tokens, [tokenizer.decode(i) for i in answer_tokens], example[ANSWERS_COL][TEXT_COL]"
      ],
      "execution_count": null,
      "outputs": []
    },
    {
      "cell_type": "markdown",
      "metadata": {
        "id": "iI8NdGhvUoju"
      },
      "source": [
        "#### Padding sides"
      ]
    },
    {
      "cell_type": "markdown",
      "metadata": {
        "id": "kbs9tiv5Zoxh"
      },
      "source": [
        "For this notebook to work with any kind of models, we need to account for the special case where the model expects padding on the left (in which case we switch the order of the question and the context):"
      ]
    },
    {
      "cell_type": "code",
      "metadata": {
        "id": "mQf_mDjfZoxh"
      },
      "source": [
        "pad_on_right = tokenizer.padding_side == \"right\"\n",
        "pad_on_right"
      ],
      "execution_count": null,
      "outputs": []
    },
    {
      "cell_type": "markdown",
      "metadata": {
        "id": "qfRkw-PMUojv"
      },
      "source": [
        "### Putting them together "
      ]
    },
    {
      "cell_type": "code",
      "metadata": {
        "id": "QaXfZr9LS2ej"
      },
      "source": [
        "def _get_context_span(input_ids,\n",
        "                     sequence_ids,\n",
        "                     answers, \n",
        "                     start_col, \n",
        "                     text_col='text',\n",
        "                     pad_on_right=True):\n",
        "    \n",
        "    # Start/end character index of the answer in the text.\n",
        "    start_char = answers[start_col][0] \n",
        "    end_char = start_char + len(answers[text_col][0]) + 1\n",
        "\n",
        "    # Start token index of the current span in the text.\n",
        "    token_start_index = 0\n",
        "    while sequence_ids[token_start_index] != (1 if pad_on_right else 0):\n",
        "        token_start_index += 1\n",
        "\n",
        "    # End token index of the current span in the text.\n",
        "    token_end_index = len(input_ids) - 1\n",
        "    while sequence_ids[token_end_index] != (1 if pad_on_right else 0):\n",
        "        token_end_index -= 1\n",
        "    \n",
        "    return token_start_index, token_end_index, start_char, end_char\n",
        "\n",
        "def _get_answer_span(tokenized_examples,\n",
        "                    offsets,\n",
        "                    start_char,\n",
        "                    end_char,\n",
        "                    token_start_index,\n",
        "                    token_end_index,):\n",
        "\n",
        "    while token_start_index < len(offsets) and offsets[token_start_index][0] <= start_char:\n",
        "        token_start_index += 1\n",
        "    start_position = token_start_index - 1\n",
        "    while offsets[token_end_index][1] >= end_char:\n",
        "        token_end_index -= 1\n",
        "    end_position = token_end_index + 1\n",
        "\n",
        "    return start_position, end_position\n",
        "\n",
        "def prepare_qa_train_features(examples, \n",
        "                           tokenizer,\n",
        "                           question_col='question',\n",
        "                           context_col='context',\n",
        "                           answers_col='answers',\n",
        "                           start_col='answer_start',\n",
        "                           text_col='text',\n",
        "                           pad_on_right=True,\n",
        "                           max_length=416,\n",
        "                           doc_stride=128):\n",
        "    \n",
        "    tokenized_examples = tokenizer(\n",
        "        examples[question_col if pad_on_right else context_col],\n",
        "        examples[context_col if pad_on_right else question_col],\n",
        "        truncation=\"only_second\" if pad_on_right else \"only_first\",\n",
        "        max_length=max_length,\n",
        "        stride=doc_stride, #overlapping of overflowing tokens\n",
        "        return_overflowing_tokens=True, #return multiple input ids if exceeding max_length\n",
        "        return_offsets_mapping=True,\n",
        "        padding=\"max_length\",\n",
        "    )\n",
        "\n",
        "    sample_mapping = tokenized_examples.pop(\"overflow_to_sample_mapping\") #map overflowing examples to original examples\n",
        "    offset_mapping = tokenized_examples.pop(\"offset_mapping\") #offset map; character index not resetted across overflowing examples\n",
        "\n",
        "    tokenized_examples[\"start_positions\"] = []\n",
        "    tokenized_examples[\"end_positions\"] = []\n",
        "\n",
        "    #loop through all examples' offset_mapping\n",
        "    for i, offsets in enumerate(offset_mapping):\n",
        "        input_ids = tokenized_examples[\"input_ids\"][i] #a list of tokens\n",
        "        cls_index = input_ids.index(tokenizer.cls_token_id) #use cls as answer when there is no answer \n",
        "        sequence_ids = tokenized_examples.sequence_ids(i) #sequence_ids 0 for question and 1 for context\n",
        "        sample_index = sample_mapping[i] #since many examples can point to the same question due to overflowing\n",
        "        answers = examples[answers_col][sample_index] #answers of each example\n",
        "\n",
        "        # If no answers are given, set the cls_index as answer\n",
        "        if len(answers[text_col]) == 0:\n",
        "            tokenized_examples[\"start_positions\"].append(cls_index)\n",
        "            tokenized_examples[\"end_positions\"].append(cls_index)\n",
        "        else:\n",
        "            token_start_index, token_end_index, start_char, end_char = _get_context_span(input_ids=input_ids,\n",
        "                                                                sequence_ids=sequence_ids,\n",
        "                                                                answers=answers, \n",
        "                                                                start_col=start_col, \n",
        "                                                                text_col=text_col,\n",
        "                                                                pad_on_right=pad_on_right)\n",
        "            # If answer is not in span, return cls_index as answer\n",
        "            if not (offsets[token_start_index][0] <= start_char and offsets[token_end_index][1] >= end_char):\n",
        "                tokenized_examples[\"start_positions\"].append(cls_index)\n",
        "                tokenized_examples[\"end_positions\"].append(cls_index)\n",
        "            else:                \n",
        "                start_position, end_position = _get_answer_span(tokenized_examples,\n",
        "                    offsets,\n",
        "                    start_char,\n",
        "                    end_char,\n",
        "                    token_start_index,\n",
        "                    token_end_index,)\n",
        "                tokenized_examples[\"start_positions\"].append(start_position)\n",
        "                tokenized_examples[\"end_positions\"].append(end_position)\n",
        "                \n",
        "    return tokenized_examples"
      ],
      "execution_count": null,
      "outputs": []
    },
    {
      "cell_type": "code",
      "metadata": {
        "id": "PEovcURgUojw"
      },
      "source": [
        "#using function in notebook\n",
        "tokenized_datasets = datasets.map(lambda x: prepare_qa_train_features(x, tokenizer), \n",
        "                                  batched=True, \n",
        "                                  remove_columns=datasets[\"train\"].column_names)\n",
        "tokenized_datasets"
      ],
      "execution_count": null,
      "outputs": []
    },
    {
      "cell_type": "code",
      "metadata": {
        "id": "XBcc8KUkUojw"
      },
      "source": [
        "# #using thai2transformers\n",
        "# from thai2transformers.preprocess import prepare_qa_train_features\n",
        "# tokenized_datasets = datasets.map(lambda x: prepare_qa_train_features(x, tokenizer), \n",
        "#                                   batched=True, \n",
        "#                                   remove_columns=datasets[\"train\"].column_names)"
      ],
      "execution_count": null,
      "outputs": []
    },
    {
      "cell_type": "code",
      "metadata": {
        "id": "wyK95VEABS94"
      },
      "source": [
        "#8 in datasets['validation'] points to both 8 and 9 in tokenized_datasets['validation'] due to overflowing tokens\n",
        "i = 8\n",
        "example = tokenized_datasets['validation'][i]\n",
        "combined_text = tokenizer.decode(example['input_ids'])\n",
        "answer_with_token_idx = tokenizer.decode(example['input_ids'][example['start_positions']:example['end_positions']])\n",
        "\n",
        "#there are quite a few more \n",
        "len(tokenized_datasets['validation']), answer_with_token_idx, combined_text"
      ],
      "execution_count": null,
      "outputs": []
    },
    {
      "cell_type": "code",
      "metadata": {
        "id": "cV-8zg94HLBL"
      },
      "source": [
        "#8 in datasets['validation'] points to both 8 and 9 in tokenized_datasets['validation'] due to overflowing tokens\n",
        "len(datasets['validation']), datasets['validation'][i] "
      ],
      "execution_count": null,
      "outputs": []
    },
    {
      "cell_type": "markdown",
      "metadata": {
        "id": "545PP3o8IrJV"
      },
      "source": [
        "## Finetuning the model"
      ]
    },
    {
      "cell_type": "markdown",
      "metadata": {
        "id": "FBiW8UpKIrJW"
      },
      "source": [
        "Now that our data is ready for training, we can download the pretrained model and fine-tune it. Since our task is question answering, we use the `AutoModelForQuestionAnswering` class. \n",
        "\n",
        "The model is trying to predict which tokens are `start_positions` and `end_positions` with cross-entropy loss.\n",
        "\n",
        "Like with the tokenizer, the `from_pretrained` method will download and cache the model for us:"
      ]
    },
    {
      "cell_type": "code",
      "metadata": {
        "id": "TlqNaB8jIrJW"
      },
      "source": [
        "model = AutoModelForQuestionAnswering.from_pretrained(\n",
        "            f'airesearch/{model_name}' if model_name not in public_models else f'{model_name}',\n",
        "            revision='main',)"
      ],
      "execution_count": null,
      "outputs": []
    },
    {
      "cell_type": "markdown",
      "metadata": {
        "id": "CczA5lJlIrJX"
      },
      "source": [
        "The warning is telling us we are throwing away some weights (the `vocab_transform` and `vocab_layer_norm` layers) and randomly initializing some other (the `pre_classifier` and `classifier` layers). This is absolutely normal in this case, because we are removing the head used to pretrain the model on a masked language modeling objective and replacing it with a new head for which we don't have pretrained weights, so the library warns us we should fine-tune this model before using it for inference, which is exactly what we are going to do."
      ]
    },
    {
      "cell_type": "markdown",
      "metadata": {
        "id": "_N8urzhyIrJY"
      },
      "source": [
        "To instantiate a `Trainer`, we will need to define three more things. The most important is the [`TrainingArguments`](https://huggingface.co/transformers/main_classes/trainer.html#transformers.TrainingArguments), which is a class that contains all the attributes to customize the training. It requires one folder name, which will be used to save the checkpoints of the model, and all other arguments are optional:"
      ]
    },
    {
      "cell_type": "code",
      "metadata": {
        "id": "Bliy8zgjIrJY"
      },
      "source": [
        "batch_size = 16\n",
        "learning_rate = 2e-5\n",
        "\n",
        "args = TrainingArguments(\n",
        "    f\"finetune_iapp_thaiqa\",\n",
        "    evaluation_strategy = \"epoch\",\n",
        "    learning_rate=learning_rate,\n",
        "    per_device_train_batch_size=batch_size,\n",
        "    per_device_eval_batch_size=batch_size*2,\n",
        "    num_train_epochs=2,\n",
        "    warmup_ratio=0.2,\n",
        "    weight_decay=0.01,\n",
        "    fp16=True,\n",
        "    save_total_limit=3,\n",
        "    load_best_model_at_end=True,\n",
        ")"
      ],
      "execution_count": null,
      "outputs": []
    },
    {
      "cell_type": "markdown",
      "metadata": {
        "id": "km3pGVdTIrJc"
      },
      "source": [
        "Here we set the evaluation to be done at the end of each epoch, tweak the learning rate, use the `batch_size` defined at the top of the notebook and customize the number of epochs for training, as well as the weight decay."
      ]
    },
    {
      "cell_type": "markdown",
      "metadata": {
        "id": "7jzNg8QgZoxm"
      },
      "source": [
        "Then we will need a data collator that will batch our processed examples together, here the default one will work:"
      ]
    },
    {
      "cell_type": "code",
      "metadata": {
        "id": "GwEJbGDNZoxn"
      },
      "source": [
        "data_collator = default_data_collator"
      ],
      "execution_count": null,
      "outputs": []
    },
    {
      "cell_type": "markdown",
      "metadata": {
        "id": "rXuFTAzDIrJe"
      },
      "source": [
        "We will evaluate our model and compute metrics in the next section (this is a very long operation, so we will only compute the evaluation loss during training).\n",
        "\n",
        "Then we just need to pass all of this along with our datasets to the `Trainer`:"
      ]
    },
    {
      "cell_type": "code",
      "metadata": {
        "id": "imY1oC3SIrJf"
      },
      "source": [
        "trainer = Trainer(\n",
        "    model=model,\n",
        "    args=args,\n",
        "    train_dataset=tokenized_datasets[\"train\"],\n",
        "    eval_dataset=tokenized_datasets[\"validation\"],\n",
        "    data_collator=data_collator,\n",
        "    tokenizer=tokenizer,\n",
        ")"
      ],
      "execution_count": null,
      "outputs": []
    },
    {
      "cell_type": "markdown",
      "metadata": {
        "id": "CdzABDVcIrJg"
      },
      "source": [
        "We can now finetune our model by just calling the `train` method:"
      ]
    },
    {
      "cell_type": "code",
      "metadata": {
        "id": "uNx5pyRlIrJh"
      },
      "source": [
        "trainer.train()"
      ],
      "execution_count": null,
      "outputs": []
    },
    {
      "cell_type": "markdown",
      "metadata": {
        "id": "0Il0e0NJZoxo"
      },
      "source": [
        "Since this training is particularly long, let's save the model just in case we need to restart."
      ]
    },
    {
      "cell_type": "code",
      "metadata": {
        "id": "uIU45W5HZoxo"
      },
      "source": [
        "trainer.save_model(\"finetune_iapp_thaiqa\")"
      ],
      "execution_count": null,
      "outputs": []
    },
    {
      "cell_type": "code",
      "metadata": {
        "id": "XYt9LrfLgTUj"
      },
      "source": [
        "#load finetuned model\n",
        "model = AutoModelForQuestionAnswering.from_pretrained('finetune_iapp_thaiqa')\n",
        "\n",
        "trainer = Trainer(\n",
        "    model,\n",
        "    args,\n",
        "    train_dataset=tokenized_datasets[\"train\"],\n",
        "    eval_dataset=tokenized_datasets[\"validation\"],\n",
        "    data_collator=data_collator,\n",
        "    tokenizer=tokenizer,\n",
        ")"
      ],
      "execution_count": null,
      "outputs": []
    },
    {
      "cell_type": "markdown",
      "metadata": {
        "id": "swNwz25FZoxo"
      },
      "source": [
        "## Evaluation"
      ]
    },
    {
      "cell_type": "markdown",
      "metadata": {
        "id": "XNk5qxf7Uoj0"
      },
      "source": [
        "### Rationale"
      ]
    },
    {
      "cell_type": "markdown",
      "metadata": {
        "id": "vAsCGUFsUoj1"
      },
      "source": [
        "#### Logit outputs"
      ]
    },
    {
      "cell_type": "markdown",
      "metadata": {
        "id": "UGZ6Y0-EZoxo"
      },
      "source": [
        "The model predicts logits for the **start and end position of our answers**."
      ]
    },
    {
      "cell_type": "code",
      "metadata": {
        "id": "wlMJchS2Zoxo"
      },
      "source": [
        "import torch\n",
        "\n",
        "batch = next(iter(trainer.get_eval_dataloader()))\n",
        "batch = {k: v.to(trainer.args.device) for k, v in batch.items()}\n",
        "\n",
        "with torch.no_grad():\n",
        "    output = trainer.model(**batch)\n",
        "\n",
        "output.keys()"
      ],
      "execution_count": null,
      "outputs": []
    },
    {
      "cell_type": "code",
      "metadata": {
        "id": "CfZZ1efzZoxp"
      },
      "source": [
        "#(batch size, sequence length)\n",
        "output.start_logits.shape, output.end_logits.shape"
      ],
      "execution_count": null,
      "outputs": []
    },
    {
      "cell_type": "markdown",
      "metadata": {
        "id": "ygKh07-nZoxq"
      },
      "source": [
        "We have one logit for each feature and each token. The most obvious thing to predict an answer for each featyre is to take the index for the maximum of the start logits as a start position and the index of the maximum of the end logits as an end position."
      ]
    },
    {
      "cell_type": "code",
      "metadata": {
        "id": "Lqef4Rr2Zoxq"
      },
      "source": [
        "output.start_logits.argmax(dim=-1), output.end_logits.argmax(dim=-1)"
      ],
      "execution_count": null,
      "outputs": []
    },
    {
      "cell_type": "markdown",
      "metadata": {
        "id": "lLKXZEXQUoj2"
      },
      "source": [
        "#### Pick `n_best_size` token positions for `start_logits` and `end_logits`"
      ]
    },
    {
      "cell_type": "markdown",
      "metadata": {
        "id": "ztdy5YD6Zoxq"
      },
      "source": [
        "One way to turn logits into predictions is to get `n_best_size` scores of `start_logits` and `end_logits`, then use their combinations as predictions. We filter out those that `end_index` comes before `start_index`."
      ]
    },
    {
      "cell_type": "code",
      "metadata": {
        "id": "lTbqlCKTZoxq"
      },
      "source": [
        "n_best_size = 20\n",
        "start_logits = output.start_logits[0].cpu().numpy()\n",
        "end_logits = output.end_logits[0].cpu().numpy()\n",
        "# Gather the indices the best start/end logits:\n",
        "start_indexes = np.argsort(start_logits)[-1 : -n_best_size - 1 : -1].tolist()\n",
        "end_indexes = np.argsort(end_logits)[-1 : -n_best_size - 1 : -1].tolist()\n",
        "valid_answers = []\n",
        "for start_index in start_indexes:\n",
        "    for end_index in end_indexes:\n",
        "        if start_index <= end_index: # We need to refine that test to check the answer is inside the context\n",
        "            valid_answers.append(\n",
        "                {\n",
        "                    \"score\": start_logits[start_index] + end_logits[end_index],\n",
        "                    \"text\": \"\" # We need to find a way to get back the original substring corresponding to the answer in the context\n",
        "                }\n",
        "            )\n"
      ],
      "execution_count": null,
      "outputs": []
    },
    {
      "cell_type": "markdown",
      "metadata": {
        "id": "STGy4FicUoj3"
      },
      "source": [
        "#### Prepare features for model prediction"
      ]
    },
    {
      "cell_type": "markdown",
      "metadata": {
        "id": "OzDSo5VmZoxr"
      },
      "source": [
        "And then we can sort the `valid_answers` according to their `score` and only keep the best one. The only point left is how to check a given span is inside the context (and not the question) and how to get back the text inside. To do this, we need to add two things to our validation features:\n",
        "\n",
        "- `example_id` of the example that generated the feature (since each example can generate several features, as seen before).\n",
        "\n",
        "- `offset_mapping` that will give us a map from token indices to character positions in the context."
      ]
    },
    {
      "cell_type": "code",
      "metadata": {
        "id": "J9tknvOT23dw"
      },
      "source": [
        "def prepare_validation_features(examples, \n",
        "                           tokenizer,\n",
        "                           question_col='question',\n",
        "                           context_col='context',\n",
        "                           question_id_col = 'question_id',\n",
        "                           pad_on_right=True,\n",
        "                           max_length=416,\n",
        "                           doc_stride=128):\n",
        "\n",
        "    tokenized_examples = tokenizer(\n",
        "        examples[question_col if pad_on_right else context_col],\n",
        "        examples[context_col if pad_on_right else question_col],\n",
        "        truncation=\"only_second\" if pad_on_right else \"only_first\",\n",
        "        max_length=max_length,\n",
        "        stride=doc_stride,\n",
        "        return_overflowing_tokens=True,\n",
        "        return_offsets_mapping=True,\n",
        "        padding=\"max_length\",\n",
        "    )\n",
        "\n",
        "    sample_mapping = tokenized_examples.pop(\"overflow_to_sample_mapping\")\n",
        "    tokenized_examples[\"example_id\"] = []\n",
        "    pass\n",
        "\n",
        "    for i in range(len(tokenized_examples[\"input_ids\"])):\n",
        "        # Grab the sequence corresponding to that example (to know what is the context and what is the question).\n",
        "        sequence_ids = tokenized_examples.sequence_ids(i)\n",
        "        context_index = 1 if pad_on_right else 0\n",
        "\n",
        "        # One example can give several spans, this is the index of the example containing this span of text.\n",
        "        sample_index = sample_mapping[i]\n",
        "        tokenized_examples[\"example_id\"].append(examples[question_id_col][sample_index])\n",
        "\n",
        "        # Set to None the offset_mapping that are not part of the context so it's easy to determine if a token position is part of the context or not.\n",
        "        tokenized_examples[\"offset_mapping\"][i] = [\n",
        "            (o if sequence_ids[k] == context_index else None)\n",
        "            for k, o in enumerate(tokenized_examples[\"offset_mapping\"][i])\n",
        "        ]\n",
        "\n",
        "    return tokenized_examples"
      ],
      "execution_count": null,
      "outputs": []
    },
    {
      "cell_type": "code",
      "metadata": {
        "id": "FCIxcX11Zoxr"
      },
      "source": [
        "validation_features = datasets[\"validation\"].map(\n",
        "    lambda x: prepare_validation_features(x, tokenizer),\n",
        "    batched=True,\n",
        "    remove_columns=datasets[\"validation\"].column_names\n",
        ")"
      ],
      "execution_count": null,
      "outputs": []
    },
    {
      "cell_type": "markdown",
      "metadata": {
        "id": "Q24LGMkTUoj4"
      },
      "source": [
        "#### Make predictions"
      ]
    },
    {
      "cell_type": "markdown",
      "metadata": {
        "id": "yuA4cazmZoxs"
      },
      "source": [
        "Now we can grab the predictions for all features by using the `Trainer.predict` method:"
      ]
    },
    {
      "cell_type": "code",
      "metadata": {
        "id": "BBdTEXKdZoxs"
      },
      "source": [
        "raw_predictions = trainer.predict(validation_features)"
      ],
      "execution_count": null,
      "outputs": []
    },
    {
      "cell_type": "code",
      "metadata": {
        "id": "SfJPeafA4PUS"
      },
      "source": [
        "#recover `offset_mapping` and `question_id`\n",
        "validation_features.set_format(type=validation_features.format[\"type\"], columns=list(validation_features.features.keys()))"
      ],
      "execution_count": null,
      "outputs": []
    },
    {
      "cell_type": "markdown",
      "metadata": {
        "id": "cqvU9YlVZoxt"
      },
      "source": [
        "We can now refine the test we had before: since we set `None` in the offset mappings when it corresponds to a part of the question, it's easy to check if an answer is fully inside the context. We also eliminate very long answers from our considerations (with an hyper-parameter we can tune)"
      ]
    },
    {
      "cell_type": "code",
      "metadata": {
        "id": "ouV0pvSlZoxu"
      },
      "source": [
        "i=7\n",
        "max_answer_length = 100\n",
        "\n",
        "start_logits = output.start_logits[i].cpu().numpy()\n",
        "end_logits = output.end_logits[i].cpu().numpy()\n",
        "offset_mapping = validation_features[i][\"offset_mapping\"]\n",
        "input_ids = validation_features[i]['input_ids']\n",
        "context = datasets[\"validation\"][i][CONTEXT_COL]\n",
        "\n",
        "# Gather the indices the best start/end logits:\n",
        "start_indexes = np.argsort(start_logits)[-1 : -n_best_size - 1 : -1].tolist()\n",
        "end_indexes = np.argsort(end_logits)[-1 : -n_best_size - 1 : -1].tolist()\n",
        "valid_answers = []\n",
        "for start_index in start_indexes:\n",
        "    for end_index in end_indexes:\n",
        "        # Don't consider out-of-scope answers, either because the indices are out of bounds or correspond to part of the input_ids that are not in the context.\n",
        "        if (\n",
        "            start_index >= len(offset_mapping)\n",
        "            or end_index >= len(offset_mapping)\n",
        "            or offset_mapping[start_index] is None\n",
        "            or offset_mapping[end_index-1] is None #end_index is exclusive upperbound\n",
        "        ):\n",
        "            continue\n",
        "        # Don't consider answers with a length that is either < 0 or > max_answer_length.\n",
        "        if end_index < start_index or end_index - start_index + 1 > max_answer_length:\n",
        "            continue\n",
        "\n",
        "        if start_index <= end_index: # We need to refine that test to check the answer is inside the context\n",
        "            start_char = offset_mapping[start_index][0]\n",
        "            end_char = offset_mapping[end_index-1][1] #end_index is exclusive upperbound\n",
        "            \n",
        "            valid_answers.append(\n",
        "                {\n",
        "                    \"score\": start_logits[start_index] + end_logits[end_index],\n",
        "                    \"text\": context[start_char:end_char],\n",
        "                }\n",
        "            )\n",
        "\n",
        "valid_answers = sorted(valid_answers, key=lambda x: x[\"score\"], reverse=True)[:n_best_size]\n",
        "valid_answers"
      ],
      "execution_count": null,
      "outputs": []
    },
    {
      "cell_type": "markdown",
      "metadata": {
        "id": "k55vVW43Zoxu"
      },
      "source": [
        "We can compare to the actual ground-truth answer:"
      ]
    },
    {
      "cell_type": "code",
      "metadata": {
        "id": "vQz0H-XzZoxv"
      },
      "source": [
        "datasets[\"validation\"][i][ANSWERS_COL]"
      ],
      "execution_count": null,
      "outputs": []
    },
    {
      "cell_type": "markdown",
      "metadata": {
        "id": "wPZ7kKUsUoj7"
      },
      "source": [
        "#### Map examples to questions"
      ]
    },
    {
      "cell_type": "markdown",
      "metadata": {
        "id": "YhCyh2fWZoxv"
      },
      "source": [
        "As we mentioned in the code above, this was easy on the first feature because we knew it comes from the first example. For the other features, we will need a map between examples and their corresponding features. Also, since one example can give several features, we will need to gather together all the answers in all the features generated by a given example, then pick the best one. The following code builds a map from example index to its corresponding features indices:"
      ]
    },
    {
      "cell_type": "code",
      "metadata": {
        "id": "bhBk2WKSZoxv"
      },
      "source": [
        "examples = datasets[\"validation\"]\n",
        "features = validation_features\n",
        "\n",
        "example_id_to_index = {k: i for i, k in enumerate(examples[QUESTION_ID_COL])}\n",
        "features_per_example = collections.defaultdict(list)\n",
        "for i, feature in enumerate(features):\n",
        "    features_per_example[example_id_to_index[feature[\"example_id\"]]].append(i)"
      ],
      "execution_count": null,
      "outputs": []
    },
    {
      "cell_type": "code",
      "metadata": {
        "id": "MgyLroGUrQxV"
      },
      "source": [
        "len(features_per_example), len(examples), len(example_id_to_index)"
      ],
      "execution_count": null,
      "outputs": []
    },
    {
      "cell_type": "markdown",
      "metadata": {
        "id": "IJ87lAegUoj8"
      },
      "source": [
        "#### Deal with impossible answers"
      ]
    },
    {
      "cell_type": "markdown",
      "metadata": {
        "id": "GYNovWkwZoxv"
      },
      "source": [
        "We're almost ready for our post-processing function. The last bit to deal with is the impossible answer. The code above only keeps answers that are inside the context, we need to also grab the score for the impossible answer (which has start and end indices corresponding to the index of the cls token). When one example gives several features, we have to predict the impossible answer when all the features give a high score to the impossible answer (since one feature could predict the impossible answer just because the answer isn't in the part of the context it has access too), which is why the score of the impossible answer for one example is the *minimum* of the scores for the impossible answer in each feature generated by the example.\n",
        "\n",
        "We then predict the impossible answer when that score is greater than the score of the best non-impossible answer. All combined together, this gives us this post-processing function:"
      ]
    },
    {
      "cell_type": "code",
      "metadata": {
        "id": "ytdihejEZoxw"
      },
      "source": [
        "def _postprocess_qa_predictions(examples,\n",
        "                               features, \n",
        "                               raw_predictions,\n",
        "                               tokenizer,\n",
        "                               n_best_size = 20, \n",
        "                               max_answer_length = 30,\n",
        "                               allow_no_answer=False,\n",
        "                               question_id_col='question_id'):\n",
        "    \n",
        "    #get start_logits and end_logits\n",
        "    all_start_logits, all_end_logits = raw_predictions\n",
        "\n",
        "    #get `offset_mapping` and `example_id` back\n",
        "    features.set_format(type=features.format[\"type\"], columns=list(features.features.keys()))\n",
        "\n",
        "    # Build a map example to its corresponding features.\n",
        "    example_id_to_index = {k: i for i, k in enumerate(examples[question_id_col])}\n",
        "    features_per_example = collections.defaultdict(list)\n",
        "    for i, feature in enumerate(features):\n",
        "        features_per_example[example_id_to_index[feature[\"example_id\"]]].append(i)\n",
        "\n",
        "    # The dictionaries we have to fill.\n",
        "    predictions = collections.OrderedDict()\n",
        "\n",
        "    # Let's loop over all the examples!\n",
        "    for example_index, example in enumerate(tqdm(examples)):\n",
        "        # Those are the indices of the features associated to the current example.\n",
        "        feature_indices = features_per_example[example_index]\n",
        "        context = example[\"context\"]\n",
        "\n",
        "        min_null_score = None\n",
        "        valid_answers = []\n",
        "        # Looping through all the features associated to the current example.\n",
        "        for feature_index in feature_indices:\n",
        "            # We grab the predictions of the model for this feature.\n",
        "            start_logits = all_start_logits[feature_index]\n",
        "            end_logits = all_end_logits[feature_index]\n",
        "\n",
        "            # This is what will allow us to map some the positions in our logits to span of texts in the original context.\n",
        "            offset_mapping = features[feature_index][\"offset_mapping\"]\n",
        "\n",
        "            #debug\n",
        "            input_ids = features[feature_index]['input_ids'] \n",
        "\n",
        "            # Update minimum null prediction.\n",
        "            cls_index = features[feature_index][\"input_ids\"].index(tokenizer.cls_token_id)\n",
        "            feature_null_score = start_logits[cls_index] + end_logits[cls_index]\n",
        "            if min_null_score is None or min_null_score < feature_null_score:\n",
        "                min_null_score = feature_null_score\n",
        "\n",
        "            # Go through all possibilities for the `n_best_size` greater start and end logits.\n",
        "            start_indexes = np.argsort(start_logits)[-1 : -n_best_size - 1 : -1].tolist()\n",
        "            end_indexes = np.argsort(end_logits)[-1 : -n_best_size - 1 : -1].tolist()\n",
        "            for start_index in start_indexes:\n",
        "                for end_index in end_indexes:\n",
        "                    # Don't consider out-of-scope answers, either because the indices are out of bounds or correspond\n",
        "                    # to part of the input_ids that are not in the context.\n",
        "                    if (\n",
        "                        start_index >= len(offset_mapping)\n",
        "                        or end_index >= len(offset_mapping)\n",
        "                        or offset_mapping[start_index] is None\n",
        "                        or offset_mapping[end_index-1] is None #end_index is the exclusive upperbound\n",
        "                    ):\n",
        "                        continue\n",
        "                    # Don't consider answers with a length that is either < 0 or > max_answer_length.\n",
        "                    if end_index < start_index or end_index - start_index + 1 > max_answer_length:\n",
        "                        continue\n",
        "\n",
        "                    start_char = offset_mapping[start_index][0]\n",
        "                    end_char = offset_mapping[end_index-1][1] #end_index is the exclusive upperbound\n",
        "                    valid_answers.append(\n",
        "                        {\n",
        "                            \"score\": start_logits[start_index] + end_logits[end_index],\n",
        "                            \"text_decode\": tokenizer.decode(input_ids[start_index:end_index]),\n",
        "                            \"text\": context[start_char:end_char],\n",
        "                        }\n",
        "                    )\n",
        "        \n",
        "        if len(valid_answers) > 0:\n",
        "            best_answer = sorted(valid_answers, key=lambda x: x[\"score\"], reverse=True)[0]\n",
        "        else:\n",
        "            # In the very rare edge case we have not a single non-null prediction, we create a fake prediction to avoid failure.\n",
        "            best_answer = {\"text\": \"\", \"score\": 0.0}\n",
        "            \n",
        "        if not allow_no_answer:\n",
        "            predictions[example[question_id_col]] = best_answer[\"text\"]\n",
        "        else:\n",
        "            answer = best_answer[\"text\"] if best_answer[\"score\"] > min_null_score else \"\"\n",
        "            predictions[example[question_id_col]] = answer\n",
        "\n",
        "    return predictions"
      ],
      "execution_count": null,
      "outputs": []
    },
    {
      "cell_type": "code",
      "metadata": {
        "id": "Ml3ixiSFtXah"
      },
      "source": [
        "#features\n",
        "validation_features = datasets[\"validation\"].map(\n",
        "    lambda x: prepare_validation_features(x, tokenizer),\n",
        "    batched=True,\n",
        "    remove_columns=datasets[\"test\"].column_names\n",
        ")\n",
        "\n",
        "#raw predictions\n",
        "raw_predictions = trainer.predict(validation_features)"
      ],
      "execution_count": null,
      "outputs": []
    },
    {
      "cell_type": "code",
      "metadata": {
        "id": "ITWPi3_tyQq7"
      },
      "source": [
        "question_id_predictions = _postprocess_qa_predictions(datasets[\"validation\"], validation_features, raw_predictions.predictions, tokenizer)"
      ],
      "execution_count": null,
      "outputs": []
    },
    {
      "cell_type": "code",
      "metadata": {
        "id": "Qk5Uhh5Y4elA"
      },
      "source": [
        "#what question_id_predictions look like\n",
        "[x for x in question_id_predictions.items()][:10]"
      ],
      "execution_count": null,
      "outputs": []
    },
    {
      "cell_type": "markdown",
      "metadata": {
        "id": "L5j6v3ACUoj_"
      },
      "source": [
        "#### Metric; replace space tokenization with `newmm` tokenization"
      ]
    },
    {
      "cell_type": "markdown",
      "metadata": {
        "id": "jwnUarTBZoxw"
      },
      "source": [
        "For metric, we will use token-level F1 as detailed in SQuAD but use `newmm` to tokenize instead of space. We will need to format the final predictions and referenes. Text normalization is changed to use `thai2transformers.preprocess.process_transformers`."
      ]
    },
    {
      "cell_type": "code",
      "metadata": {
        "id": "XUrCF0SoZoxw"
      },
      "source": [
        "metric = squad_newmm_metric\n",
        "metric"
      ],
      "execution_count": null,
      "outputs": []
    },
    {
      "cell_type": "code",
      "metadata": {
        "id": "ULLrhksgZoxx"
      },
      "source": [
        "#format to have same field names as squad\n",
        "formatted_predictions = [{\"id\": str(k), \"prediction_text\": v} for k, v in question_id_predictions.items()]\n",
        "formatted_predictions[:10]"
      ],
      "execution_count": null,
      "outputs": []
    },
    {
      "cell_type": "code",
      "metadata": {
        "id": "3ron3NyM-oKQ"
      },
      "source": [
        "#format to have same field names as squad\n",
        "references = [{\"id\": str(ex[QUESTION_ID_COL]), \n",
        "               \"answers\": {'text': ex[ANSWERS_COL][TEXT_COL],\n",
        "                           'answer_start':ex[ANSWERS_COL][START_COL]}} for ex in datasets[\"validation\"]]\n",
        "references[:10]"
      ],
      "execution_count": null,
      "outputs": []
    },
    {
      "cell_type": "code",
      "metadata": {
        "id": "yeyo2Kvj-gDh"
      },
      "source": [
        "metric.compute(predictions=formatted_predictions, references=references)"
      ],
      "execution_count": null,
      "outputs": []
    },
    {
      "cell_type": "markdown",
      "metadata": {
        "id": "ktpsi24QUokA"
      },
      "source": [
        "### Put them together"
      ]
    },
    {
      "cell_type": "code",
      "metadata": {
        "id": "LQyzLk2sUokB"
      },
      "source": [
        "def prepare_qa_validation_features(examples, \n",
        "                           tokenizer,\n",
        "                           question_col='question',\n",
        "                           context_col='context',\n",
        "                           question_id_col = 'question_id',\n",
        "                           pad_on_right=True,\n",
        "                           max_length=416,\n",
        "                           doc_stride=128):\n",
        "\n",
        "    tokenized_examples = tokenizer(\n",
        "        examples[question_col if pad_on_right else context_col],\n",
        "        examples[context_col if pad_on_right else question_col],\n",
        "        truncation=\"only_second\" if pad_on_right else \"only_first\",\n",
        "        max_length=max_length,\n",
        "        stride=doc_stride,\n",
        "        return_overflowing_tokens=True,\n",
        "        return_offsets_mapping=True,\n",
        "        padding=\"max_length\",\n",
        "    )\n",
        "\n",
        "    sample_mapping = tokenized_examples.pop(\"overflow_to_sample_mapping\")\n",
        "    tokenized_examples[\"example_id\"] = []\n",
        "    pass\n",
        "\n",
        "    for i in range(len(tokenized_examples[\"input_ids\"])):\n",
        "        # Grab the sequence corresponding to that example (to know what is the context and what is the question).\n",
        "        sequence_ids = tokenized_examples.sequence_ids(i)\n",
        "        context_index = 1 if pad_on_right else 0\n",
        "\n",
        "        # One example can give several spans, this is the index of the example containing this span of text.\n",
        "        sample_index = sample_mapping[i]\n",
        "        tokenized_examples[\"example_id\"].append(examples[question_id_col][sample_index])\n",
        "\n",
        "        # Set to None the offset_mapping that are not part of the context so it's easy to determine if a token position is part of the context or not.\n",
        "        tokenized_examples[\"offset_mapping\"][i] = [\n",
        "            (o if sequence_ids[k] == context_index else None)\n",
        "            for k, o in enumerate(tokenized_examples[\"offset_mapping\"][i])\n",
        "        ]\n",
        "\n",
        "    return tokenized_examples"
      ],
      "execution_count": null,
      "outputs": []
    },
    {
      "cell_type": "code",
      "metadata": {
        "id": "8_3RDuigUokB"
      },
      "source": [
        "def _postprocess_qa_predictions(examples,\n",
        "                               features, \n",
        "                               raw_predictions,\n",
        "                               tokenizer,\n",
        "                               n_best_size = 20, \n",
        "                               max_answer_length = 30,\n",
        "                               allow_no_answer=False,\n",
        "                               question_id_col='question_id'):\n",
        "    \n",
        "    #get start_logits and end_logits\n",
        "    all_start_logits, all_end_logits = raw_predictions\n",
        "\n",
        "    #get `offset_mapping` and `example_id` back\n",
        "    features.set_format(type=features.format[\"type\"], columns=list(features.features.keys()))\n",
        "\n",
        "    # Build a map example to its corresponding features.\n",
        "    example_id_to_index = {k: i for i, k in enumerate(examples[question_id_col])}\n",
        "    features_per_example = collections.defaultdict(list)\n",
        "    for i, feature in enumerate(features):\n",
        "        features_per_example[example_id_to_index[feature[\"example_id\"]]].append(i)\n",
        "\n",
        "    # The dictionaries we have to fill.\n",
        "    predictions = collections.OrderedDict()\n",
        "\n",
        "    # Let's loop over all the examples!\n",
        "    for example_index, example in enumerate(tqdm(examples)):\n",
        "        # Those are the indices of the features associated to the current example.\n",
        "        feature_indices = features_per_example[example_index]\n",
        "        context = example[\"context\"]\n",
        "\n",
        "        min_null_score = None\n",
        "        valid_answers = []\n",
        "        # Looping through all the features associated to the current example.\n",
        "        for feature_index in feature_indices:\n",
        "            # We grab the predictions of the model for this feature.\n",
        "            start_logits = all_start_logits[feature_index]\n",
        "            end_logits = all_end_logits[feature_index]\n",
        "\n",
        "            # This is what will allow us to map some the positions in our logits to span of texts in the original context.\n",
        "            offset_mapping = features[feature_index][\"offset_mapping\"]\n",
        "\n",
        "            #debug\n",
        "            input_ids = features[feature_index]['input_ids'] \n",
        "\n",
        "            # Update minimum null prediction.\n",
        "            cls_index = features[feature_index][\"input_ids\"].index(tokenizer.cls_token_id)\n",
        "            feature_null_score = start_logits[cls_index] + end_logits[cls_index]\n",
        "            if min_null_score is None or min_null_score < feature_null_score:\n",
        "                min_null_score = feature_null_score\n",
        "\n",
        "            # Go through all possibilities for the `n_best_size` greater start and end logits.\n",
        "            start_indexes = np.argsort(start_logits)[-1 : -n_best_size - 1 : -1].tolist()\n",
        "            end_indexes = np.argsort(end_logits)[-1 : -n_best_size - 1 : -1].tolist()\n",
        "            for start_index in start_indexes:\n",
        "                for end_index in end_indexes:\n",
        "                    # Don't consider out-of-scope answers, either because the indices are out of bounds or correspond\n",
        "                    # to part of the input_ids that are not in the context.\n",
        "                    if (\n",
        "                        start_index >= len(offset_mapping)\n",
        "                        or end_index >= len(offset_mapping)\n",
        "                        or offset_mapping[start_index] is None\n",
        "                        or offset_mapping[end_index-1] is None #end_index is the exclusive upperbound\n",
        "                    ):\n",
        "                        continue\n",
        "                    # Don't consider answers with a length that is either < 0 or > max_answer_length.\n",
        "                    if end_index < start_index or end_index - start_index + 1 > max_answer_length:\n",
        "                        continue\n",
        "\n",
        "                    start_char = offset_mapping[start_index][0]\n",
        "                    end_char = offset_mapping[end_index-1][1] #end_index is the exclusive upperbound\n",
        "                    valid_answers.append(\n",
        "                        {\n",
        "                            \"score\": start_logits[start_index] + end_logits[end_index],\n",
        "                            \"text_decode\": tokenizer.decode(input_ids[start_index:end_index]),\n",
        "                            \"text\": context[start_char:end_char],\n",
        "                        }\n",
        "                    )\n",
        "        \n",
        "        if len(valid_answers) > 0:\n",
        "            best_answer = sorted(valid_answers, key=lambda x: x[\"score\"], reverse=True)[0]\n",
        "        else:\n",
        "            # In the very rare edge case we have not a single non-null prediction, we create a fake prediction to avoid failure.\n",
        "            best_answer = {\"text\": \"\", \"score\": 0.0}\n",
        "            \n",
        "        if not allow_no_answer:\n",
        "            predictions[example[question_id_col]] = best_answer[\"text\"]\n",
        "        else:\n",
        "            answer = best_answer[\"text\"] if best_answer[\"score\"] > min_null_score else \"\"\n",
        "            predictions[example[question_id_col]] = answer\n",
        "\n",
        "    return predictions"
      ],
      "execution_count": null,
      "outputs": []
    },
    {
      "cell_type": "code",
      "metadata": {
        "id": "v4etd8OKUokB"
      },
      "source": [
        "def question_answering_metrics(datasets,\n",
        "                               trainer,\n",
        "                               metric=squad_newmm_metric,\n",
        "                               n_best_size=20,\n",
        "                               max_answer_length=30,\n",
        "                               allow_no_answer=False,\n",
        "                               question_col='question',\n",
        "                               context_col='context',\n",
        "                               question_id_col='question_id',\n",
        "                               answers_col='answers',\n",
        "                               text_col='text',\n",
        "                               start_col='answer_start',\n",
        "                               pad_on_right=True,\n",
        "                               max_length=416,\n",
        "                               doc_stride=128):\n",
        "    \n",
        "    validation_features = datasets.map(\n",
        "        lambda examples: prepare_qa_validation_features(examples=datasets, \n",
        "                           tokenizer=trainer.tokenizer,\n",
        "                           question_col=question_col,\n",
        "                           context_col=context_col,\n",
        "                           question_id_col = question_id_col,\n",
        "                           pad_on_right=pad_on_right,\n",
        "                           max_length=max_length,\n",
        "                           doc_stride=doc_stride),\n",
        "        batched=True,\n",
        "        remove_columns=datasets.column_names\n",
        "    )\n",
        "    \n",
        "    #logits for start and end\n",
        "    pred = trainer.predict(validation_features)\n",
        "    \n",
        "    #question_id, answer text format\n",
        "    question_id_predictions = _postprocess_qa_predictions(examples=datasets,\n",
        "                               features=validation_features, \n",
        "                               raw_predictions=pred.predictions,\n",
        "                               tokenizer=trainer.tokenizer,\n",
        "                               n_best_size = n_best_size, \n",
        "                               max_answer_length = max_answer_length,\n",
        "                               allow_no_answer = allow_no_answer,\n",
        "                               question_id_col=question_id_col)\n",
        "\n",
        "\n",
        "    #format to have same field names as squad\n",
        "    formatted_predictions = [{\"id\": str(k), \"prediction_text\": v} for k, v in question_id_predictions.items()]\n",
        "\n",
        "    #format to have same field names as squad\n",
        "    references = [{\"id\": str(ex[question_id_col]), \n",
        "                   \"answers\": {'text': ex[answers_col][text_col],\n",
        "                               'answer_start':ex[answers_col][start_col]}} for ex in datasets]\n",
        "\n",
        "    return metric.compute(predictions=formatted_predictions, references=references), formatted_predictions, references"
      ],
      "execution_count": null,
      "outputs": []
    },
    {
      "cell_type": "code",
      "metadata": {
        "id": "9Ga6YD4MUokC"
      },
      "source": [
        "#using function in notebook\n",
        "metrics, formatted_predictions, references = question_answering_metrics(datasets['test'], trainer)\n",
        "metrics"
      ],
      "execution_count": null,
      "outputs": []
    },
    {
      "cell_type": "code",
      "metadata": {
        "id": "M9PVnN6ZUokC"
      },
      "source": [
        "#using thai2transformers\n",
        "from thai2transformers.metrics import question_answering_metrics\n",
        "metrics, formatted_predictions, references = question_answering_metrics(datasets['test'], trainer)\n",
        "metrics"
      ],
      "execution_count": null,
      "outputs": []
    },
    {
      "cell_type": "markdown",
      "metadata": {
        "id": "lzCEbNFrUokC"
      },
      "source": [
        "## Error Analysis"
      ]
    },
    {
      "cell_type": "code",
      "metadata": {
        "id": "kH1yJ2Q_UokD"
      },
      "source": [
        "import pandas as pd\n",
        "pd.set_option('display.max_colwidth', -1)\n",
        "from fuzzywuzzy import fuzz\n",
        "df = pd.DataFrame({#'id':[i['id'] for i in references],\n",
        "                    'context':[i['context'] for i in datasets['test']],\n",
        "                    'question':[i['question'] for i in datasets['test']],\n",
        "                    'text':[i['answers']['text'][0] for i in references],\n",
        "                    'prediction_text':[i['prediction_text'] for i in formatted_predictions]})\n",
        "df['partial_ratio'] = df.apply(lambda row: fuzz.partial_ratio(row['text'],row['prediction_text']),1)\n",
        "df = df.sort_values('partial_ratio')"
      ],
      "execution_count": null,
      "outputs": []
    },
    {
      "cell_type": "code",
      "metadata": {
        "id": "MlbTQG6RUokD"
      },
      "source": [
        "df[df.prediction_text==''] #no answer"
      ],
      "execution_count": null,
      "outputs": []
    },
    {
      "cell_type": "code",
      "metadata": {
        "id": "c80MdGHmUokE"
      },
      "source": [
        "df[df.partial_ratio<100].partial_ratio.hist()"
      ],
      "execution_count": null,
      "outputs": []
    },
    {
      "cell_type": "code",
      "metadata": {
        "id": "ao37SWGhUokE"
      },
      "source": [
        "df.head(20) #most likely wrong answers"
      ],
      "execution_count": null,
      "outputs": []
    },
    {
      "cell_type": "code",
      "metadata": {
        "id": "VUvRx0wgUokE"
      },
      "source": [
        ""
      ],
      "execution_count": null,
      "outputs": []
    }
  ]
}